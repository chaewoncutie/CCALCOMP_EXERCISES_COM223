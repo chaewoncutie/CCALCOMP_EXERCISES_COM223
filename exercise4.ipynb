{
  "cells": [
    {
      "cell_type": "markdown",
      "metadata": {
        "id": "cPRRjBOhHHMh"
      },
      "source": [
        "# Exercise 4\n",
        "\n",
        "Please follow the instructions in each number."
      ]
    },
    {
      "cell_type": "markdown",
      "metadata": {
        "id": "zvDTNWRFHHMk"
      },
      "source": [
        "### Activity Selection Problem\n",
        "\n",
        "Given a set of activities, along with the starting and finishing time of each activity, find the maximum number of activities performed by a single person assuming that a person can only work on a single activity at a time.\n",
        "\n",
        "For example,\n",
        "\n",
        "Input: Following set of activities (1, 4), (3, 5), (0, 6), (5, 7), (3, 8), (5, 9), (6, 10), (8, 11), (8, 12), (2, 13), (12, 14)  \n",
        "\n",
        "Output: (1, 4), (5, 7), (8, 11), (12, 14)"
      ]
    },
    {
      "cell_type": "markdown",
      "metadata": {
        "id": "ff7w7YLGHHMl"
      },
      "source": [
        "## Tasks"
      ]
    },
    {
      "cell_type": "markdown",
      "metadata": {
        "id": "0QLHdoNSHHMl"
      },
      "source": [
        "1. Write a program using a recursive greedy approach to get the maximum number of activities (`50 points`)"
      ]
    },
    {
      "cell_type": "code",
      "execution_count": 5,
      "metadata": {
        "vscode": {
          "languageId": "plaintext"
        },
        "id": "Xe02cHvAHHMl",
        "colab": {
          "base_uri": "https://localhost:8080/"
        },
        "outputId": "25b87b31-5e31-4e2f-d657-726e5d6b67a7"
      },
      "outputs": [
        {
          "output_type": "stream",
          "name": "stdout",
          "text": [
            "The selected activities are: [(1, 4), (5, 7), (8, 11), (12, 14)]\n"
          ]
        }
      ],
      "source": [
        "def activity_selection(activities, current_time=0):\n",
        "    if not activities:\n",
        "        return []\n",
        "\n",
        "    for i, (start, finish) in enumerate(activities):\n",
        "        if start >= current_time:\n",
        "            return [(start, finish)] + activity_selection(activities[i+1:], finish)\n",
        "\n",
        "    return []\n",
        "\n",
        "def main():\n",
        "    activities = [(1, 4), (3, 5), (0, 6), (5, 7), (3, 8), (5, 9), (6, 10),\n",
        "                  (8, 11), (8, 12), (2, 13), (12, 14)]\n",
        "\n",
        "    activities.sort(key=lambda x: x[1])\n",
        "\n",
        "    selected_activities = activity_selection(activities)\n",
        "\n",
        "    print(\"The selected activities are:\", selected_activities)\n",
        "\n",
        "if __name__ == \"__main__\":\n",
        "    main()"
      ]
    },
    {
      "cell_type": "markdown",
      "source": [
        "2. Write a program using a iterative greedy approach to get the maximun number of activities (`50 points`)"
      ],
      "metadata": {
        "id": "mC55ZZj1jvzf"
      }
    },
    {
      "cell_type": "code",
      "execution_count": 6,
      "metadata": {
        "vscode": {
          "languageId": "plaintext"
        },
        "id": "UrSZyQwEHHMn",
        "colab": {
          "base_uri": "https://localhost:8080/"
        },
        "outputId": "fd1d0b84-c20a-456e-9c0d-b9e08836dcfb"
      },
      "outputs": [
        {
          "output_type": "stream",
          "name": "stdout",
          "text": [
            "The selected activities are:\n",
            "(1, 4)\n",
            "(5, 7)\n",
            "(8, 11)\n",
            "(12, 14)\n"
          ]
        }
      ],
      "source": [
        "def activity_selection(activities):\n",
        "    activities.sort(key=lambda x: x[1])\n",
        "\n",
        "    selected_activities = []\n",
        "    current_time = 0\n",
        "\n",
        "    for start, finish in activities:\n",
        "        if start >= current_time:\n",
        "            selected_activities.append((start, finish))\n",
        "            current_time = finish\n",
        "\n",
        "    return selected_activities\n",
        "\n",
        "def main():\n",
        "    activities = [(1, 4), (3, 5), (0, 6), (5, 7), (3, 8), (5, 9), (6, 10),\n",
        "                  (8, 11), (8, 12), (2, 13), (12, 14)]\n",
        "\n",
        "    selected_activities = activity_selection(activities)\n",
        "\n",
        "    print(\"The selected activities are:\")\n",
        "    for activity in selected_activities:\n",
        "        print(activity)\n",
        "\n",
        "if __name__ == \"__main__\":\n",
        "    main()"
      ]
    }
  ],
  "metadata": {
    "colab": {
      "provenance": []
    },
    "kernelspec": {
      "display_name": "base",
      "language": "python",
      "name": "python3"
    },
    "language_info": {
      "codemirror_mode": {
        "name": "ipython",
        "version": 3
      },
      "file_extension": ".py",
      "mimetype": "text/x-python",
      "name": "python",
      "nbconvert_exporter": "python",
      "pygments_lexer": "ipython3",
      "version": "3.9.6"
    }
  },
  "nbformat": 4,
  "nbformat_minor": 0
}
