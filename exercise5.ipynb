{
  "cells": [
    {
      "cell_type": "markdown",
      "metadata": {
        "id": "-8bYOEC8HOQ4"
      },
      "source": [
        "# Exercise 5\n",
        "\n",
        "Please follow the instructions in each number."
      ]
    },
    {
      "cell_type": "markdown",
      "metadata": {
        "id": "FEPXLUAPHOQ6"
      },
      "source": [
        "### Maximum Subarray\n",
        "Given an array of integers nums, find the subarray with the largest sum and return the sum.\n",
        "\n",
        "A subarray is a contiguous non-empty sequence of elements within an array.\n",
        "\n",
        "\n",
        "\n",
        "Example 1:\n",
        "\n",
        "Input: nums = [2,-3,4,-2,2,1,-1,4]\n",
        "\n",
        "Output: 8\n",
        "\n",
        "Explanation: The subarray [4,-2,2,1,-1,4] has the largest sum 8."
      ]
    },
    {
      "cell_type": "markdown",
      "metadata": {
        "id": "D4a-4yS4HOQ7"
      },
      "source": [
        "## Tasks"
      ]
    },
    {
      "cell_type": "markdown",
      "metadata": {
        "id": "v8mlE6kYHOQ7"
      },
      "source": [
        "1. Put your student number in a list and manually compute the maximum subarray in your student number (`10 points`)"
      ]
    },
    {
      "cell_type": "code",
      "execution_count": 18,
      "metadata": {
        "vscode": {
          "languageId": "plaintext"
        },
        "id": "YJMIVpuTHOQ8",
        "colab": {
          "base_uri": "https://localhost:8080/"
        },
        "outputId": "2513a022-3909-458b-9522-cff2fb3bce96"
      },
      "outputs": [
        {
          "output_type": "stream",
          "name": "stdout",
          "text": [
            "The maximum subarray sum for the student number [2, 0, 2, 2, 1, 0, 7, 7, 9, 1] is 31.\n"
          ]
        }
      ],
      "source": [
        "# put your answer here\n",
        "print(\"The maximum subarray sum for the student number [2, 0, 2, 2, 1, 0, 7, 7, 9, 1] is 31.\")"
      ]
    },
    {
      "cell_type": "markdown",
      "metadata": {
        "id": "nchQgI2KHOQ8"
      },
      "source": [
        "2. Write a program using a brute-force approach to get the maximum-subarray of your student number (`40 points`)"
      ]
    },
    {
      "cell_type": "code",
      "execution_count": 19,
      "metadata": {
        "vscode": {
          "languageId": "plaintext"
        },
        "id": "b9P6oe11HOQ9",
        "colab": {
          "base_uri": "https://localhost:8080/"
        },
        "outputId": "aad4fa2a-776f-4348-a14a-6698df28083a"
      },
      "outputs": [
        {
          "output_type": "stream",
          "name": "stdout",
          "text": [
            "Maximum subarray sum: 31\n",
            "Subarray: [2, 0, 2, 2, 1, 0, 7, 7, 9, 1]\n"
          ]
        }
      ],
      "source": [
        "# put your answer here\n",
        "def max_subarray_brute_force(nums):\n",
        "    n = len(nums)\n",
        "    if n == 0:\n",
        "        return 0\n",
        "\n",
        "    maxsum = float('-inf')\n",
        "    start = end = 0\n",
        "\n",
        "    for i in range(n):\n",
        "        cursum = 0\n",
        "        for j in range(i, n):\n",
        "            cursum += nums[j]\n",
        "            if cursum > maxsum:\n",
        "                maxsum = cursum\n",
        "                start = i\n",
        "                end = j\n",
        "\n",
        "    return maxsum, start, end\n",
        "\n",
        "student_number = [2, 0, 2, 2, 1, 0, 7, 7, 9, 1]\n",
        "maxsum, start, end = max_subarray_brute_force(student_number)\n",
        "\n",
        "print(\"Maximum subarray sum:\", maxsum)\n",
        "print(\"Subarray:\", student_number[start:end+1])"
      ]
    },
    {
      "cell_type": "markdown",
      "metadata": {
        "id": "NkqAxIx_HOQ9"
      },
      "source": [
        "3. Write a program using a dynamic programming to get the maximum-subarray of your student number (`50 points`)"
      ]
    },
    {
      "cell_type": "code",
      "execution_count": 20,
      "metadata": {
        "vscode": {
          "languageId": "plaintext"
        },
        "id": "BFBp2ARLHOQ9",
        "colab": {
          "base_uri": "https://localhost:8080/"
        },
        "outputId": "93477474-458a-431b-b50c-6fe6710f26dd"
      },
      "outputs": [
        {
          "output_type": "stream",
          "name": "stdout",
          "text": [
            "The maximum subarray sum with the help of dynamic programming is 31\n"
          ]
        }
      ],
      "source": [
        "# put your answer here\n",
        "def max_subdp(nums):\n",
        "    n = len(nums)\n",
        "    if n == 0:\n",
        "        return 0\n",
        "\n",
        "    maxend = nums[0]\n",
        "    maxx = nums[0]\n",
        "\n",
        "    for i in range(1, n):\n",
        "        maxend = max(nums[i], maxend + nums[i])\n",
        "        maxx = max(maxx, maxend)\n",
        "\n",
        "    return maxx\n",
        "\n",
        "student_number = [2, 0, 2, 2, 1, 0, 7, 7, 9, 1]\n",
        "max_subsum = max_subdp(student_number)\n",
        "\n",
        "print(\"The maximum subarray sum with the help of dynamic programming is\", max_subsum)\n"
      ]
    }
  ],
  "metadata": {
    "colab": {
      "provenance": []
    },
    "kernelspec": {
      "display_name": "base",
      "language": "python",
      "name": "python3"
    },
    "language_info": {
      "codemirror_mode": {
        "name": "ipython",
        "version": 3
      },
      "file_extension": ".py",
      "mimetype": "text/x-python",
      "name": "python",
      "nbconvert_exporter": "python",
      "pygments_lexer": "ipython3",
      "version": "3.9.6"
    }
  },
  "nbformat": 4,
  "nbformat_minor": 0
}